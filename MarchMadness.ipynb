{
 "cells": [
  {
   "cell_type": "code",
   "execution_count": 103,
   "metadata": {
    "collapsed": false
   },
   "outputs": [],
   "source": [
    "import pandas as pd\n",
    "\n",
    "url1 = 'https://raw.github.com/WesleyPasfield/March_Madness/master/KenPom.csv'\n",
    "url2 = 'https://raw.github.com/WesleyPasfield/March_Madness/master/RegularSeasonDetailedResults.csv'\n",
    "url3 = 'https://raw.github.com/WesleyPasfield/March_Madness/master/Teams.csv'\n",
    "url4 = 'https://raw.github.com/WesleyPasfield/March_Madness/master/TourneyCompactResults.csv'\n",
    "url5 = 'https://raw.github.com/WesleyPasfield/March_Madness/master/TourneySlots.csv'\n",
    "url6 = 'https://raw.github.com/WesleyPasfield/March_Madness/master/Team_Lookup.csv'\n",
    "url7 = 'https://raw.github.com/WesleyPasfield/March_Madness/master/RegularSeasonCompactResults.csv'\n",
    "url8 = 'https://raw.github.com/WesleyPasfield/March_Madness/master/Stage_1.csv'\n",
    "kp = pd.read_csv(url1)\n",
    "regSeason = pd.read_csv(url2)\n",
    "teams = pd.read_csv(url3)\n",
    "tourneyResults = pd.read_csv(url4)\n",
    "tourneySlots = pd.read_csv(url5)\n",
    "teamLookup = pd.read_csv(url6)\n",
    "regSeasonComp = pd.read_csv(url7)\n",
    "stage1 = pd.read_csv(url8)"
   ]
  },
  {
   "cell_type": "code",
   "execution_count": 27,
   "metadata": {
    "collapsed": false
   },
   "outputs": [],
   "source": [
    "## Drop headers that exist in kp CSV file\n",
    "\n",
    "kp = kp.dropna(subset = ['Pyth_NCSOS'])\n",
    "\n",
    "## Replace seeds from team name\n",
    "\n",
    "kp['Team'] = kp['Team'].str.replace(' 16', '')\n",
    "kp['Team'] = kp['Team'].str.replace(' 15', '')\n",
    "kp['Team'] = kp['Team'].str.replace(' 14', '')\n",
    "kp['Team'] = kp['Team'].str.replace(' 13', '')\n",
    "kp['Team'] = kp['Team'].str.replace(' 12', '')\n",
    "kp['Team'] = kp['Team'].str.replace(' 11', '')\n",
    "kp['Team'] = kp['Team'].str.replace(' 10', '')\n",
    "kp['Team'] = kp['Team'].str.replace(' 9', '')\n",
    "kp['Team'] = kp['Team'].str.replace(' 8', '')\n",
    "kp['Team'] = kp['Team'].str.replace(' 7', '')\n",
    "kp['Team'] = kp['Team'].str.replace(' 6', '')\n",
    "kp['Team'] = kp['Team'].str.replace(' 5', '')\n",
    "kp['Team'] = kp['Team'].str.replace(' 4', '')\n",
    "kp['Team'] = kp['Team'].str.replace(' 3', '')\n",
    "kp['Team'] = kp['Team'].str.replace(' 2', '')\n",
    "kp['Team'] = kp['Team'].str.replace(' 1', '')\n",
    "\n",
    "## Change column names for team lookup, then merge to match KP names & Kaggle Names\n",
    "\n",
    "teamLookup.columns = ['Team', 'Team_Name']\n",
    "kp2 = kp.merge(teamLookup, on = 'Team', how = 'left')\n",
    "\n",
    "## Drop Null cases (Winston Salem St. , irrelevant), & Merge with Teams to get team_ids\n",
    "\n",
    "kp2['nullCheck'] = pd.isnull(kp2['Team_Name'])\n",
    "kp2= kp2[kp2.nullCheck != True]\n",
    "kp3 = kp2.merge(teams, on = 'Team_Name', how = 'left')\n",
    "\n",
    "## Convert variables to correct format & drop irrelevant variables\n",
    "\n",
    "kp3[['Pyth','AdjO','AdjD','AdjT','Luck']] = kp3[['Pyth','AdjO','AdjD','AdjT','Luck']].astype(float)\n",
    "kp3.drop(['Rank','Team','Conf','nullCheck','Team_Name'],inplace=True,axis=1,errors='ignore')\n",
    "\n",
    "## Add in total adjusted team efficiency (adjO - adjD) & create variable for Team_Year\n",
    "\n",
    "kp3['AdjT'] = kp3['AdjO'] - kp3['AdjD']\n",
    "kp3['Team_Year'] = kp3.Year.map(str) + \"_\" + kp3.Team_Id.map(str)\n",
    "kp3 = kp3[kp3['Year'] != 2002]\n",
    "\n",
    "## Drop Unnecessary Variables\n",
    "\n",
    "kp3.drop(['Year', 'Team_Id'], inplace=True, axis=1, errors='ignore')\n",
    "\n",
    "## Create z score for all variables\n",
    "\n",
    "cols = list(kp3.columns)\n",
    "cols.remove('Team_Year')\n",
    "\n",
    "for col in cols:\n",
    "    col_zscore = col + '_zscore'\n",
    "    kp3[col_zscore] = (kp3[col] - kp3[col].mean())/kp3[col].std(ddof=0)\n",
    "    \n",
    "## Pull out only z score tranformed variables\n",
    "kpFin = kp3[kp3.columns[9:19]]"
   ]
  },
  {
   "cell_type": "code",
   "execution_count": 28,
   "metadata": {
    "collapsed": false
   },
   "outputs": [
    {
     "name": "stdout",
     "output_type": "stream",
     "text": [
      "<class 'pandas.core.frame.DataFrame'>\n",
      "Int64Index: 4420 entries, 0 to 4419\n",
      "Data columns (total 22 columns):\n",
      "Team_Year                4420 non-null object\n",
      "Pyth_zscore              4420 non-null float64\n",
      "AdjO_zscore              4420 non-null float64\n",
      "AdjD_zscore              4420 non-null float64\n",
      "AdjT_zscore              4420 non-null float64\n",
      "Luck_zscore              4420 non-null float64\n",
      "Pyth_SOS_zscore          4420 non-null float64\n",
      "OppO_zscore              4420 non-null float64\n",
      "OppD_zscore              4420 non-null float64\n",
      "Pyth_NCSOS_zscore        4420 non-null float64\n",
      "AdjO_Vol_Max_zscore      4420 non-null float64\n",
      "AdjD_Vol_Max_zscore      4420 non-null float64\n",
      "AdjT_Vol_Max_zscore      4420 non-null float64\n",
      "AdjO_Vol_Min_zscore      4420 non-null float64\n",
      "AdjD_Vol_Min_zscore      4420 non-null float64\n",
      "AdjT_Vol_Min_zscore      4420 non-null float64\n",
      "AdjO_Vol_Range_zscore    4420 non-null float64\n",
      "AdjD_Vol_Range_zscore    4420 non-null float64\n",
      "AdjT_Vol_Range_zscore    4420 non-null float64\n",
      "AdjO_Vol_Avg_zscore      4420 non-null float64\n",
      "AdjD_Vol_Avg_zscore      4420 non-null float64\n",
      "AdjT_Vol_Avg_zscore      4420 non-null float64\n",
      "dtypes: float64(21), object(1)\n",
      "memory usage: 794.2+ KB\n"
     ]
    }
   ],
   "source": [
    "## Get Team_Year combinations, then create df for all game winners & losers\n",
    "\n",
    "regSeason['W_Team_Year'] = regSeason.Season.map(str) + '_' + regSeason.Wteam.map(str)\n",
    "regSeason['L_Team_Year'] = regSeason.Season.map(str) + '_' + regSeason.Lteam.map(str)\n",
    "regSeasonFin= regSeason[['W_Team_Year', 'L_Team_Year', 'possW', 'possL', 'possDiff']]\n",
    "\n",
    "## Create KP file that just has adjO, adjD, & AdjT for merging\n",
    "\n",
    "kp4 = kp3[['Team_Year', 'AdjO','AdjD','AdjT']]\n",
    "\n",
    "## Merge kp3 with regSeasonFin\n",
    "\n",
    "regSeasonFin2 = regSeasonFin.merge(kp4, left_on = 'W_Team_Year', right_on = 'Team_Year')\n",
    "regSeasonFin3 = regSeasonFin2.merge(kp4, left_on = 'L_Team_Year', right_on = 'Team_Year')\n",
    "regSeasonFin3.columns = ['W_Team_Year', 'L_Team_Year', 'possW', 'possL', \n",
    "                         'possDiff', 'W_Team_Year2','W_AdjO','W_AdjD','W_AdjT',\n",
    "                        'L_Team_Year2', 'L_AdjO', 'L_AdjD', 'L_AdjT']\n",
    "\n",
    "regSeasonFin4 = regSeasonFin3\n",
    "regSeasonFin4['W_expO'] = (regSeasonFin3['W_AdjO'] + regSeasonFin3['L_AdjD']) / 2\n",
    "regSeasonFin4['W_expD'] = (regSeasonFin3['W_AdjD'] + regSeasonFin3['L_AdjO']) / 2\n",
    "regSeasonFin4['L_expO'] = (regSeasonFin3['L_AdjO'] + regSeasonFin3['W_AdjD']) / 2\n",
    "regSeasonFin4['L_expD'] = (regSeasonFin3['L_AdjD'] + regSeasonFin3['W_AdjO']) / 2\n",
    "regSeasonFin4['expF'] = regSeasonFin3['W_AdjT'] - regSeasonFin3['L_AdjT']\n",
    "regSeasonFin4['W_ActO_ExpO'] = regSeasonFin4['possW'] - regSeasonFin4['W_expO']\n",
    "regSeasonFin4['W_ActD_ExpD'] = regSeasonFin4['possL'] - regSeasonFin4['W_expD']\n",
    "regSeasonFin4['L_ActO_ExpO'] = regSeasonFin4['possL'] - regSeasonFin4['L_expO']\n",
    "regSeasonFin4['L_ActD_ExpD'] = regSeasonFin4['possW'] - regSeasonFin4['L_expD']\n",
    "regSeasonFin4['ActF-ExpF'] = regSeasonFin4['possDiff'] - regSeasonFin4['expF']\n",
    "regSeasonFin4['W_ActO_ExpO_Abs'] = abs(regSeasonFin4['possW'] - regSeasonFin4['W_expO'])\n",
    "regSeasonFin4['W_ActD_ExpD_Abs'] = abs(regSeasonFin4['possL'] - regSeasonFin4['W_expD'])\n",
    "regSeasonFin4['L_ActO_ExpO_Abs'] = abs(regSeasonFin4['possL'] - regSeasonFin4['L_expO'])\n",
    "regSeasonFin4['L_ActD_ExpD_Abs'] = abs(regSeasonFin4['possW'] - regSeasonFin4['L_expD'])\n",
    "regSeasonFin4['ActF-ExpF_Abs'] = abs(regSeasonFin4['possDiff'] - regSeasonFin4['expF'])\n",
    "\n",
    "regSeasLoss = regSeasonFin4[['L_Team_Year','L_ActO_ExpO', 'L_ActO_ExpO_Abs', \n",
    "                             'L_ActD_ExpD','L_ActD_ExpD_Abs','ActF-ExpF','ActF-ExpF_Abs']]\n",
    "                                                            \n",
    "regSeasWin = regSeasonFin4[['W_Team_Year','W_ActO_ExpO', 'W_ActO_ExpO_Abs', 'W_ActD_ExpD',\n",
    "                             'W_ActD_ExpD_Abs', 'ActF-ExpF', 'ActF-ExpF_Abs']]\n",
    "\n",
    "regSeasLoss.columns = ['Team_Year', 'AdjO_Vol', 'AdjO_Vol_Abs', 'AdjD_Vol', 'AdjD_Vol_Abs', 'AdjT_Vol', 'AdjT_Vol_Abs']\n",
    "regSeasWin.columns = ['Team_Year', 'AdjO_Vol', 'AdjO_Vol_Abs', 'AdjD_Vol', 'AdjD_Vol_Abs', 'AdjT_Vol', 'AdjT_Vol_Abs']\n",
    "\n",
    "regSeasConcat = pd.concat([regSeasLoss, regSeasWin])\n",
    "regSeasGroupAverage = regSeasConcat.groupby(['Team_Year']).mean()\n",
    "regSeasGroupAverage['Team_Year'] = regSeasGroupAverage.index\n",
    "regSeasGroupAverage = regSeasGroupAverage[['Team_Year', 'AdjO_Vol_Abs', 'AdjD_Vol_Abs', 'AdjT_Vol_Abs']]\n",
    "regSeasGroupAverage.columns = ['Team_Year', 'AdjO_Vol_Avg', 'AdjD_Vol_Avg', 'AdjT_Vol_Avg']\n",
    "\n",
    "regSeasGroupMax = regSeasConcat.groupby(['Team_Year']).max()\n",
    "regSeasGroupMax['Team_Year'] = regSeasGroupMax.index\n",
    "regSeasGroupMax = regSeasGroupMax[['Team_Year', 'AdjO_Vol' ,'AdjD_Vol', 'AdjT_Vol']]\n",
    "regSeasGroupMax.columns = ['Team_Year', 'AdjO_Vol_Max' ,'AdjD_Vol_Max', 'AdjT_Vol_Max']\n",
    "\n",
    "regSeasGroupMin = regSeasConcat.groupby(['Team_Year']).min()\n",
    "regSeasGroupMin['Team_Year'] = regSeasGroupMin.index\n",
    "regSeasGroupMin = regSeasGroupMin[['Team_Year', 'AdjO_Vol' ,'AdjD_Vol', 'AdjT_Vol']]\n",
    "regSeasGroupMin.columns = ['Team_Year', 'AdjO_Vol_Min' ,'AdjD_Vol_Min', 'AdjT_Vol_Min']\n",
    "\n",
    "regSeasGroupMaxMin = regSeasGroupMax.merge(regSeasGroupMin, on = 'Team_Year')\n",
    "regSeasGroupMaxMin['AdjO_Vol_Range'] = regSeasGroupMaxMin['AdjO_Vol_Max'] - regSeasGroupMaxMin['AdjO_Vol_Min']\n",
    "regSeasGroupMaxMin['AdjD_Vol_Range'] = regSeasGroupMaxMin['AdjD_Vol_Max'] - regSeasGroupMaxMin['AdjD_Vol_Min']\n",
    "regSeasGroupMaxMin['AdjT_Vol_Range'] = regSeasGroupMaxMin['AdjT_Vol_Max'] - regSeasGroupMaxMin['AdjT_Vol_Min']\n",
    "regSeasGroupFin = regSeasGroupMaxMin.merge(regSeasGroupAverage, on = 'Team_Year')\n",
    "regSeasGroupFin.index = regSeasGroupFin['Team_Year']\n",
    "regSeasGroupFin.head(n =10)\n",
    "\n",
    "## Create z score for all variables\n",
    "\n",
    "cols = list(regSeasGroupFin.columns)\n",
    "cols.remove('Team_Year')\n",
    "\n",
    "for col in cols:\n",
    "    col_zscore = col + '_zscore'\n",
    "    regSeasGroupFin[col_zscore] = (regSeasGroupFin[col] - regSeasGroupFin[col].mean())/regSeasGroupFin[col].std(ddof=0)\n",
    "    \n",
    "regSeasMerge = regSeasGroupFin[['Team_Year', 'AdjO_Vol_Max_zscore', 'AdjD_Vol_Max_zscore',\n",
    "                               'AdjT_Vol_Max_zscore', 'AdjO_Vol_Min_zscore', 'AdjD_Vol_Min_zscore',\n",
    "                               'AdjT_Vol_Min_zscore', 'AdjO_Vol_Range_zscore', 'AdjD_Vol_Range_zscore',\n",
    "                               'AdjT_Vol_Range_zscore', 'AdjO_Vol_Avg_zscore', 'AdjD_Vol_Avg_zscore',\n",
    "                               'AdjT_Vol_Avg_zscore']]\n",
    "\n",
    "\n",
    "kpMerge = kpFin.merge(regSeasMerge, on = 'Team_Year', how = 'left')\n",
    "kpMerge.info()"
   ]
  },
  {
   "cell_type": "code",
   "execution_count": 41,
   "metadata": {
    "collapsed": false
   },
   "outputs": [],
   "source": [
    "\n",
    "regUse = regSeasonComp[['Wteam', 'Lteam', 'Home', 'Neutral', 'Away', 'Win']]\n",
    "\n",
    "kpModel = regUse.merge(kpMerge, left_on = 'Wteam', right_on = 'Team_Year')\n",
    "kpModel = kpModel.merge(kpMerge, left_on = 'Lteam', right_on = 'Team_Year')\n",
    "\n",
    "kpModel['Pyth_diff'] = kpModel['Pyth_zscore_x'] - kpModel['Pyth_zscore_y']\n",
    "kpModel['AdjO_diff'] = kpModel['AdjO_zscore_x'] - kpModel['AdjO_zscore_y']\n",
    "kpModel['AdjD_diff'] = kpModel['AdjD_zscore_x'] - kpModel['AdjD_zscore_y']\n",
    "kpModel['AdjT_diff'] = kpModel['AdjT_zscore_x'] - kpModel['AdjT_zscore_y']\n",
    "kpModel['Luck_diff'] = kpModel['Luck_zscore_x'] - kpModel['Luck_zscore_y']\n",
    "kpModel['Pyth_SOS_diff'] = kpModel['Pyth_SOS_zscore_x'] - kpModel['Pyth_SOS_zscore_y']\n",
    "kpModel['OppO_diff'] = kpModel['OppO_zscore_x'] - kpModel['OppO_zscore_y']\n",
    "kpModel['OppD_diff'] = kpModel['OppD_zscore_x'] - kpModel['OppD_zscore_y']\n",
    "kpModel['Pyth_NCSOS_diff'] = kpModel['Pyth_NCSOS_zscore_x'] - kpModel['Pyth_NCSOS_zscore_y']\n",
    "kpModel['AdjO_Vol_Max_diff'] = kpModel['AdjO_Vol_Max_zscore_x'] - kpModel['AdjO_Vol_Max_zscore_y']\n",
    "kpModel['AdjD_Vol_Max_diff'] = kpModel['AdjD_Vol_Max_zscore_x'] - kpModel['AdjD_Vol_Max_zscore_y']\n",
    "kpModel['AdjT_Vol_Max_diff'] = kpModel['AdjT_Vol_Max_zscore_x'] - kpModel['AdjT_Vol_Max_zscore_y']\n",
    "kpModel['AdjO_Vol_Min_diff'] = kpModel['AdjO_Vol_Min_zscore_x'] - kpModel['AdjO_Vol_Min_zscore_y']\n",
    "kpModel['AdjD_Vol_Min_diff'] = kpModel['AdjD_Vol_Min_zscore_x'] - kpModel['AdjD_Vol_Min_zscore_y']\n",
    "kpModel['AdjT_Vol_Min_diff'] = kpModel['AdjT_Vol_Min_zscore_x'] - kpModel['AdjT_Vol_Min_zscore_y']\n",
    "kpModel['AdjO_Vol_Range_diff'] = kpModel['AdjO_Vol_Range_zscore_x'] - kpModel['AdjO_Vol_Range_zscore_y']\n",
    "kpModel['AdjD_Vol_Range_diff'] = kpModel['AdjD_Vol_Range_zscore_x'] - kpModel['AdjD_Vol_Range_zscore_y']\n",
    "kpModel['AdjT_Vol_Range_diff'] = kpModel['AdjT_Vol_Range_zscore_x'] - kpModel['AdjT_Vol_Range_zscore_y']\n",
    "kpModel['AdjO_Vol_Avg_diff'] = kpModel['AdjO_Vol_Avg_zscore_x'] - kpModel['AdjO_Vol_Avg_zscore_y']\n",
    "kpModel['AdjD_Vol_Avg_diff'] = kpModel['AdjD_Vol_Avg_zscore_x'] - kpModel['AdjD_Vol_Avg_zscore_y']\n",
    "kpModel['AdjT_Vol_Avg_diff'] = kpModel['AdjT_Vol_Avg_zscore_x'] - kpModel['AdjT_Vol_Avg_zscore_y']\n",
    "\n",
    "kpModel['id'] = kpModel.Wteam.str[:4] + '_' + kpModel.Wteam.str[4:] + '_' + kpModel.Lteam.str[4:]\n",
    "#kp3['Team_Year'] = kp3.Year.map(str) + \"_\" + kp3.Team_Id.map(str)\n",
    "kpFinal = kpModel.iloc[:,[2,3,4,50,51,52,53,54,55,56,57,58,59,60,61,62,63,64,65,66,67,68,69,70]]\n",
    "kpTarget = kpModel['Win']"
   ]
  },
  {
   "cell_type": "code",
   "execution_count": 51,
   "metadata": {
    "collapsed": false
   },
   "outputs": [
    {
     "data": {
      "text/plain": [
       "array([0, 0, 0, ..., 1, 0, 0])"
      ]
     },
     "execution_count": 51,
     "metadata": {},
     "output_type": "execute_result"
    }
   ],
   "source": [
    "\n",
    "import sklearn.ensemble as ens\n",
    "from sklearn.preprocessing import LabelEncoder\n",
    "import numpy as np\n",
    "\n",
    "tIndex = np.random.rand(len(kpFinal)) < 0.75\n",
    "X_train = kpFinal[tIndex]\n",
    "X_test = kpFinal[~tIndex]\n",
    "y_train = kpTarget[tIndex]\n",
    "y_test = kpTarget[~tIndex]\n",
    "\n",
    "gbm = ens.GradientBoostingClassifier(max_depth =5 , learning_rate = 0.1, n_estimators = 100,\n",
    "                                    subsample= .85).fit(X_train, y_train)\n",
    "\n",
    "\n"
   ]
  },
  {
   "cell_type": "code",
   "execution_count": 57,
   "metadata": {
    "collapsed": false
   },
   "outputs": [
    {
     "data": {
      "text/plain": [
       "array([[ 0.69273905,  0.30726095],\n",
       "       [ 0.62813065,  0.37186935],\n",
       "       [ 0.6898363 ,  0.3101637 ],\n",
       "       ..., \n",
       "       [ 0.13453458,  0.86546542],\n",
       "       [ 0.69809482,  0.30190518],\n",
       "       [ 0.8417771 ,  0.1582229 ]])"
      ]
     },
     "execution_count": 57,
     "metadata": {},
     "output_type": "execute_result"
    }
   ],
   "source": [
    "predictions = gbm.predict_proba(X_test)\n",
    "predictions\n"
   ]
  },
  {
   "cell_type": "code",
   "execution_count": 61,
   "metadata": {
    "collapsed": false
   },
   "outputs": [],
   "source": [
    "import xgboost as xgb\n",
    "\n",
    "xgb1 = xgb.XGBClassifier(max_depth =5 , learning_rate = 0.1, n_estimators = 100,\n",
    "                                    subsample= .85, colsample_bytree =.85, \n",
    "                                     objective = 'binary:logistic').fit(X_train, y_train)\n"
   ]
  },
  {
   "cell_type": "code",
   "execution_count": 62,
   "metadata": {
    "collapsed": false
   },
   "outputs": [
    {
     "data": {
      "text/plain": [
       "array([[ 0.68761265,  0.31238735],\n",
       "       [ 0.58896637,  0.41103363],\n",
       "       [ 0.67596853,  0.3240315 ],\n",
       "       ..., \n",
       "       [ 0.18509209,  0.81490791],\n",
       "       [ 0.70939124,  0.29060876],\n",
       "       [ 0.8305701 ,  0.16942993]], dtype=float32)"
      ]
     },
     "execution_count": 62,
     "metadata": {},
     "output_type": "execute_result"
    }
   ],
   "source": [
    "predictions = xgb1.predict_proba(X_test)\n",
    "predictions"
   ]
  },
  {
   "cell_type": "code",
   "execution_count": 82,
   "metadata": {
    "collapsed": false
   },
   "outputs": [],
   "source": [
    "## Create modeling file by merging reg season results with tourney results\n",
    "\n",
    "tourneyUse = tourneyResults[['Wteam', 'Lteam', 'Home', 'Neutral', 'Away', 'Win']]\n",
    "\n",
    "kpModelTourn = tourneyUse.merge(kpMerge, left_on = 'Wteam', right_on = 'Team_Year')\n",
    "kpModelTourn = kpModelTourn.merge(kpMerge, left_on = 'Lteam', right_on = 'Team_Year')\n",
    "\n",
    "kpModelTourn['Pyth_diff'] = kpModelTourn['Pyth_zscore_x'] - kpModelTourn['Pyth_zscore_y']\n",
    "kpModelTourn['AdjO_diff'] = kpModelTourn['AdjO_zscore_x'] - kpModelTourn['AdjO_zscore_y']\n",
    "kpModelTourn['AdjD_diff'] = kpModelTourn['AdjD_zscore_x'] - kpModelTourn['AdjD_zscore_y']\n",
    "kpModelTourn['AdjT_diff'] = kpModelTourn['AdjT_zscore_x'] - kpModelTourn['AdjT_zscore_y']\n",
    "kpModelTourn['Luck_diff'] = kpModelTourn['Luck_zscore_x'] - kpModelTourn['Luck_zscore_y']\n",
    "kpModelTourn['Pyth_SOS_diff'] = kpModelTourn['Pyth_SOS_zscore_x'] - kpModelTourn['Pyth_SOS_zscore_y']\n",
    "kpModelTourn['OppO_diff'] = kpModelTourn['OppO_zscore_x'] - kpModelTourn['OppO_zscore_y']\n",
    "kpModelTourn['OppD_diff'] = kpModelTourn['OppD_zscore_x'] - kpModelTourn['OppD_zscore_y']\n",
    "kpModelTourn['Pyth_NCSOS_diff'] = kpModelTourn['Pyth_NCSOS_zscore_x'] - kpModelTourn['Pyth_NCSOS_zscore_y']\n",
    "kpModelTourn['AdjO_Vol_Max_diff'] = kpModelTourn['AdjO_Vol_Max_zscore_x'] - kpModelTourn['AdjO_Vol_Max_zscore_y']\n",
    "kpModelTourn['AdjD_Vol_Max_diff'] = kpModelTourn['AdjD_Vol_Max_zscore_x'] - kpModelTourn['AdjD_Vol_Max_zscore_y']\n",
    "kpModelTourn['AdjT_Vol_Max_diff'] = kpModelTourn['AdjT_Vol_Max_zscore_x'] - kpModelTourn['AdjT_Vol_Max_zscore_y']\n",
    "kpModelTourn['AdjO_Vol_Min_diff'] = kpModelTourn['AdjO_Vol_Min_zscore_x'] - kpModelTourn['AdjO_Vol_Min_zscore_y']\n",
    "kpModelTourn['AdjD_Vol_Min_diff'] = kpModelTourn['AdjD_Vol_Min_zscore_x'] - kpModelTourn['AdjD_Vol_Min_zscore_y']\n",
    "kpModelTourn['AdjT_Vol_Min_diff'] = kpModelTourn['AdjT_Vol_Min_zscore_x'] - kpModelTourn['AdjT_Vol_Min_zscore_y']\n",
    "kpModelTourn['AdjO_Vol_Range_diff'] = kpModelTourn['AdjO_Vol_Range_zscore_x'] - kpModelTourn['AdjO_Vol_Range_zscore_y']\n",
    "kpModelTourn['AdjD_Vol_Range_diff'] = kpModelTourn['AdjD_Vol_Range_zscore_x'] - kpModelTourn['AdjD_Vol_Range_zscore_y']\n",
    "kpModelTourn['AdjT_Vol_Range_diff'] = kpModelTourn['AdjT_Vol_Range_zscore_x'] - kpModelTourn['AdjT_Vol_Range_zscore_y']\n",
    "kpModelTourn['AdjO_Vol_Avg_diff'] = kpModelTourn['AdjO_Vol_Avg_zscore_x'] - kpModelTourn['AdjO_Vol_Avg_zscore_y']\n",
    "kpModelTourn['AdjD_Vol_Avg_diff'] = kpModelTourn['AdjD_Vol_Avg_zscore_x'] - kpModelTourn['AdjD_Vol_Avg_zscore_y']\n",
    "kpModelTourn['AdjT_Vol_Avg_diff'] = kpModelTourn['AdjT_Vol_Avg_zscore_x'] - kpModelTourn['AdjT_Vol_Avg_zscore_y']\n",
    "\n",
    "kpModelTourn['id'] = kpModelTourn.Wteam.str[:4] + '_' + kpModelTourn.Wteam.str[4:] + '_' + kpModelTourn.Lteam.str[4:]\n",
    "#kp3['Team_Year'] = kp3.Year.map(str) + \"_\" + kp3.Team_Id.map(str)\n",
    "kpFinalTourn = kpModelTourn.iloc[:,[2,3,4,50,51,52,53,54,55,56,57,58,59,60,61,62,63,64,65,66,67,68,69,70]]\n",
    "kpTarget = kpModelTourn['Win']"
   ]
  },
  {
   "cell_type": "code",
   "execution_count": 113,
   "metadata": {
    "collapsed": true
   },
   "outputs": [],
   "source": [
    "## Test Predictor\n",
    "\n",
    "\n",
    "kpModelStage1 = stage1.merge(kpMerge, left_on = 'Wteam', right_on = 'Team_Year')\n",
    "kpModelStage1 = kpModelStage1.merge(kpMerge, left_on = 'Lteam', right_on = 'Team_Year')\n",
    "\n",
    "kpModelStage1['Pyth_diff'] = kpModelStage1['Pyth_zscore_x'] - kpModelStage1['Pyth_zscore_y']\n",
    "kpModelStage1['AdjO_diff'] = kpModelStage1['AdjO_zscore_x'] - kpModelStage1['AdjO_zscore_y']\n",
    "kpModelStage1['AdjD_diff'] = kpModelStage1['AdjD_zscore_x'] - kpModelStage1['AdjD_zscore_y']\n",
    "kpModelStage1['AdjT_diff'] = kpModelStage1['AdjT_zscore_x'] - kpModelStage1['AdjT_zscore_y']\n",
    "kpModelStage1['Luck_diff'] = kpModelStage1['Luck_zscore_x'] - kpModelStage1['Luck_zscore_y']\n",
    "kpModelStage1['Pyth_SOS_diff'] = kpModelStage1['Pyth_SOS_zscore_x'] - kpModelStage1['Pyth_SOS_zscore_y']\n",
    "kpModelStage1['OppO_diff'] = kpModelStage1['OppO_zscore_x'] - kpModelStage1['OppO_zscore_y']\n",
    "kpModelStage1['OppD_diff'] = kpModelStage1['OppD_zscore_x'] - kpModelStage1['OppD_zscore_y']\n",
    "kpModelStage1['Pyth_NCSOS_diff'] = kpModelStage1['Pyth_NCSOS_zscore_x'] - kpModelStage1['Pyth_NCSOS_zscore_y']\n",
    "kpModelStage1['AdjO_Vol_Max_diff'] = kpModelStage1['AdjO_Vol_Max_zscore_x'] - kpModelStage1['AdjO_Vol_Max_zscore_y']\n",
    "kpModelStage1['AdjD_Vol_Max_diff'] = kpModelStage1['AdjD_Vol_Max_zscore_x'] - kpModelStage1['AdjD_Vol_Max_zscore_y']\n",
    "kpModelStage1['AdjT_Vol_Max_diff'] = kpModelStage1['AdjT_Vol_Max_zscore_x'] - kpModelStage1['AdjT_Vol_Max_zscore_y']\n",
    "kpModelStage1['AdjO_Vol_Min_diff'] = kpModelStage1['AdjO_Vol_Min_zscore_x'] - kpModelStage1['AdjO_Vol_Min_zscore_y']\n",
    "kpModelStage1['AdjD_Vol_Min_diff'] = kpModelStage1['AdjD_Vol_Min_zscore_x'] - kpModelStage1['AdjD_Vol_Min_zscore_y']\n",
    "kpModelStage1['AdjT_Vol_Min_diff'] = kpModelStage1['AdjT_Vol_Min_zscore_x'] - kpModelStage1['AdjT_Vol_Min_zscore_y']\n",
    "kpModelStage1['AdjO_Vol_Range_diff'] = kpModelStage1['AdjO_Vol_Range_zscore_x'] - kpModelStage1['AdjO_Vol_Range_zscore_y']\n",
    "kpModelStage1['AdjD_Vol_Range_diff'] = kpModelStage1['AdjD_Vol_Range_zscore_x'] - kpModelStage1['AdjD_Vol_Range_zscore_y']\n",
    "kpModelStage1['AdjT_Vol_Range_diff'] = kpModelStage1['AdjT_Vol_Range_zscore_x'] - kpModelStage1['AdjT_Vol_Range_zscore_y']\n",
    "kpModelStage1['AdjO_Vol_Avg_diff'] = kpModelStage1['AdjO_Vol_Avg_zscore_x'] - kpModelStage1['AdjO_Vol_Avg_zscore_y']\n",
    "kpModelStage1['AdjD_Vol_Avg_diff'] = kpModelStage1['AdjD_Vol_Avg_zscore_x'] - kpModelStage1['AdjD_Vol_Avg_zscore_y']\n",
    "kpModelStage1['AdjT_Vol_Avg_diff'] = kpModelStage1['AdjT_Vol_Avg_zscore_x'] - kpModelStage1['AdjT_Vol_Avg_zscore_y']\n",
    "\n",
    "kpModelStage1['id'] = kpModelStage1.Wteam.str[:4] + '_' + kpModelStage1.Wteam.str[4:] + '_' + kpModelStage1.Lteam.str[4:]\n",
    "kpFinalStage1 = kpModelStage1.iloc[:,[2,3,4,49,50,51,52,53,54,55,56,57,58,59,60,61,62,63,64,65,66,67,68,69]]\n"
   ]
  },
  {
   "cell_type": "code",
   "execution_count": 114,
   "metadata": {
    "collapsed": false
   },
   "outputs": [
    {
     "name": "stdout",
     "output_type": "stream",
     "text": [
      "<class 'pandas.core.frame.DataFrame'>\n",
      "Int64Index: 9112 entries, 0 to 9111\n",
      "Data columns (total 24 columns):\n",
      "Home                   9112 non-null int64\n",
      "Neutral                9112 non-null int64\n",
      "Away                   9112 non-null int64\n",
      "Pyth_diff              9112 non-null float64\n",
      "AdjO_diff              9112 non-null float64\n",
      "AdjD_diff              9112 non-null float64\n",
      "AdjT_diff              9112 non-null float64\n",
      "Luck_diff              9112 non-null float64\n",
      "Pyth_SOS_diff          9112 non-null float64\n",
      "OppO_diff              9112 non-null float64\n",
      "OppD_diff              9112 non-null float64\n",
      "Pyth_NCSOS_diff        9112 non-null float64\n",
      "AdjO_Vol_Max_diff      9112 non-null float64\n",
      "AdjD_Vol_Max_diff      9112 non-null float64\n",
      "AdjT_Vol_Max_diff      9112 non-null float64\n",
      "AdjO_Vol_Min_diff      9112 non-null float64\n",
      "AdjD_Vol_Min_diff      9112 non-null float64\n",
      "AdjT_Vol_Min_diff      9112 non-null float64\n",
      "AdjO_Vol_Range_diff    9112 non-null float64\n",
      "AdjD_Vol_Range_diff    9112 non-null float64\n",
      "AdjT_Vol_Range_diff    9112 non-null float64\n",
      "AdjO_Vol_Avg_diff      9112 non-null float64\n",
      "AdjD_Vol_Avg_diff      9112 non-null float64\n",
      "AdjT_Vol_Avg_diff      9112 non-null float64\n",
      "dtypes: float64(21), int64(3)\n",
      "memory usage: 1.7 MB\n"
     ]
    }
   ],
   "source": [
    "kpFinalStage1.info()"
   ]
  },
  {
   "cell_type": "code",
   "execution_count": 118,
   "metadata": {
    "collapsed": false
   },
   "outputs": [],
   "source": [
    "import os\n",
    "\n",
    "\n",
    "X_testStage1 = kpFinalStage1\n",
    "\n",
    "predSub = gbm.predict_proba(X_testStage1)\n",
    "predSub2 = xgb1.predict_proba(X_testStage1)\n",
    "\n",
    "submission = pd.DataFrame({'id': kpModelStage1['id'],\n",
    "                           'pred' : predSub[:,1]})\n",
    "submission2 = pd.DataFrame({'id': kpModelStage1['id'],\n",
    "                           'pred' : predSub2[:,1]})\n",
    "\n",
    "path = '/Users/Wesley/Documents/Kaggle/MarchMadness'\n",
    "os.chdir(path)\n",
    "\n",
    "submission.to_csv('gbmSubmission.csv')\n",
    "submission2.to_csv('xgbSubmission.csv')\n",
    "\n"
   ]
  },
  {
   "cell_type": "code",
   "execution_count": 95,
   "metadata": {
    "collapsed": false
   },
   "outputs": [
    {
     "ename": "NameError",
     "evalue": "name 'df' is not defined",
     "output_type": "error",
     "traceback": [
      "\u001b[0;31m---------------------------------------------------------------------------\u001b[0m",
      "\u001b[0;31mNameError\u001b[0m                                 Traceback (most recent call last)",
      "\u001b[0;32m<ipython-input-95-b9a07b5c74f4>\u001b[0m in \u001b[0;36m<module>\u001b[0;34m()\u001b[0m\n\u001b[1;32m      2\u001b[0m \u001b[0mxgb\u001b[0m\u001b[0;34m.\u001b[0m\u001b[0mplot_importance\u001b[0m\u001b[0;34m(\u001b[0m\u001b[0mxgb1\u001b[0m\u001b[0;34m)\u001b[0m\u001b[0;34m\u001b[0m\u001b[0m\n\u001b[1;32m      3\u001b[0m \u001b[0mplt\u001b[0m\u001b[0;34m.\u001b[0m\u001b[0mfigure\u001b[0m\u001b[0;34m(\u001b[0m\u001b[0;34m)\u001b[0m\u001b[0;34m\u001b[0m\u001b[0m\n\u001b[0;32m----> 4\u001b[0;31m \u001b[0mdf\u001b[0m\u001b[0;34m.\u001b[0m\u001b[0mplot\u001b[0m\u001b[0;34m(\u001b[0m\u001b[0;34m)\u001b[0m\u001b[0;34m\u001b[0m\u001b[0m\n\u001b[0m\u001b[1;32m      5\u001b[0m \u001b[0mdf\u001b[0m\u001b[0;34m.\u001b[0m\u001b[0mplot\u001b[0m\u001b[0;34m(\u001b[0m\u001b[0mkind\u001b[0m\u001b[0;34m=\u001b[0m\u001b[0;34m'barh'\u001b[0m\u001b[0;34m,\u001b[0m \u001b[0mx\u001b[0m\u001b[0;34m=\u001b[0m\u001b[0;34m'feature'\u001b[0m\u001b[0;34m,\u001b[0m \u001b[0my\u001b[0m\u001b[0;34m=\u001b[0m\u001b[0;34m'fscore'\u001b[0m\u001b[0;34m,\u001b[0m \u001b[0mlegend\u001b[0m\u001b[0;34m=\u001b[0m\u001b[0;32mFalse\u001b[0m\u001b[0;34m,\u001b[0m \u001b[0mfigsize\u001b[0m\u001b[0;34m=\u001b[0m\u001b[0;34m(\u001b[0m\u001b[0;36m6\u001b[0m\u001b[0;34m,\u001b[0m \u001b[0;36m10\u001b[0m\u001b[0;34m)\u001b[0m\u001b[0;34m)\u001b[0m\u001b[0;34m\u001b[0m\u001b[0m\n\u001b[1;32m      6\u001b[0m \u001b[0mplt\u001b[0m\u001b[0;34m.\u001b[0m\u001b[0mtitle\u001b[0m\u001b[0;34m(\u001b[0m\u001b[0;34m'XGBoost Feature Importance'\u001b[0m\u001b[0;34m)\u001b[0m\u001b[0;34m\u001b[0m\u001b[0m\n",
      "\u001b[0;31mNameError\u001b[0m: name 'df' is not defined"
     ]
    }
   ],
   "source": [
    "from matplotlib import pylab as plt\n",
    "xgb.plot_importance(xgb1)\n",
    "plt.figure()\n",
    "df.plot()\n",
    "df.plot(kind='barh', x='feature', y='fscore', legend=False, figsize=(6, 10))\n",
    "plt.title('XGBoost Feature Importance')\n",
    "plt.xlabel('relative importance')\n",
    "plt.gcf().savefig('feature_importance_xgb.png')"
   ]
  },
  {
   "cell_type": "code",
   "execution_count": 97,
   "metadata": {
    "collapsed": false
   },
   "outputs": [
    {
     "ename": "NameError",
     "evalue": "name 'getcwd' is not defined",
     "output_type": "error",
     "traceback": [
      "\u001b[0;31m---------------------------------------------------------------------------\u001b[0m",
      "\u001b[0;31mNameError\u001b[0m                                 Traceback (most recent call last)",
      "\u001b[0;32m<ipython-input-97-1d79d8ed9876>\u001b[0m in \u001b[0;36m<module>\u001b[0;34m()\u001b[0m\n\u001b[1;32m      1\u001b[0m \u001b[0;32mimport\u001b[0m \u001b[0mos\u001b[0m\u001b[0;34m\u001b[0m\u001b[0m\n\u001b[0;32m----> 2\u001b[0;31m \u001b[0mgetcwd\u001b[0m\u001b[0;34m(\u001b[0m\u001b[0;34m)\u001b[0m\u001b[0;34m\u001b[0m\u001b[0m\n\u001b[0m",
      "\u001b[0;31mNameError\u001b[0m: name 'getcwd' is not defined"
     ]
    }
   ],
   "source": [
    "TO DO\n",
    "\n",
    "Visualize the data\n",
    "Tune the model\n",
    "Work in Tourney results\n",
    "Remove __ from id variable, not sure why that is happening"
   ]
  },
  {
   "cell_type": "code",
   "execution_count": null,
   "metadata": {
    "collapsed": true
   },
   "outputs": [],
   "source": []
  }
 ],
 "metadata": {
  "kernelspec": {
   "display_name": "Python 3",
   "language": "python",
   "name": "python3"
  },
  "language_info": {
   "codemirror_mode": {
    "name": "ipython",
    "version": 3
   },
   "file_extension": ".py",
   "mimetype": "text/x-python",
   "name": "python",
   "nbconvert_exporter": "python",
   "pygments_lexer": "ipython3",
   "version": "3.5.1"
  }
 },
 "nbformat": 4,
 "nbformat_minor": 0
}
